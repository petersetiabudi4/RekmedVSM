{
  "nbformat": 4,
  "nbformat_minor": 0,
  "metadata": {
    "colab": {
      "provenance": [],
      "include_colab_link": true
    },
    "kernelspec": {
      "name": "python3",
      "display_name": "Python 3"
    },
    "language_info": {
      "name": "python"
    }
  },
  "cells": [
    {
      "cell_type": "markdown",
      "metadata": {
        "id": "view-in-github",
        "colab_type": "text"
      },
      "source": [
        "<a href=\"https://colab.research.google.com/github/petersetiabudi4/RekmedVSM/blob/main/Rekmed.ipynb\" target=\"_parent\"><img src=\"https://colab.research.google.com/assets/colab-badge.svg\" alt=\"Open In Colab\"/></a>"
      ]
    },
    {
      "cell_type": "markdown",
      "source": [
        "## Data Preprocessing"
      ],
      "metadata": {
        "id": "7YJ63Z1AGonZ"
      }
    },
    {
      "cell_type": "code",
      "source": [
        "!pip install nltk"
      ],
      "metadata": {
        "colab": {
          "base_uri": "https://localhost:8080/"
        },
        "id": "lRHIog5lIcDD",
        "outputId": "d8eabf0f-d209-4cc2-e1bf-efd06d90f069"
      },
      "execution_count": null,
      "outputs": [
        {
          "output_type": "stream",
          "name": "stdout",
          "text": [
            "Requirement already satisfied: nltk in /usr/local/lib/python3.10/dist-packages (3.8.1)\n",
            "Requirement already satisfied: click in /usr/local/lib/python3.10/dist-packages (from nltk) (8.1.7)\n",
            "Requirement already satisfied: joblib in /usr/local/lib/python3.10/dist-packages (from nltk) (1.3.2)\n",
            "Requirement already satisfied: regex>=2021.8.3 in /usr/local/lib/python3.10/dist-packages (from nltk) (2023.6.3)\n",
            "Requirement already satisfied: tqdm in /usr/local/lib/python3.10/dist-packages (from nltk) (4.66.1)\n"
          ]
        }
      ]
    },
    {
      "cell_type": "code",
      "source": [
        "import nltk\n",
        "nltk.download('punkt')"
      ],
      "metadata": {
        "colab": {
          "base_uri": "https://localhost:8080/"
        },
        "id": "qIGV-8t2IiPI",
        "outputId": "71ab8a38-1df2-44f5-bd1d-2ffedeb612d1"
      },
      "execution_count": null,
      "outputs": [
        {
          "output_type": "stream",
          "name": "stderr",
          "text": [
            "[nltk_data] Downloading package punkt to /root/nltk_data...\n",
            "[nltk_data]   Unzipping tokenizers/punkt.zip.\n"
          ]
        },
        {
          "output_type": "execute_result",
          "data": {
            "text/plain": [
              "True"
            ]
          },
          "metadata": {},
          "execution_count": 3
        }
      ]
    },
    {
      "cell_type": "code",
      "execution_count": null,
      "metadata": {
        "id": "1Z_bLLoSFnb5",
        "colab": {
          "base_uri": "https://localhost:8080/"
        },
        "outputId": "64f3d9e3-901c-4d29-db76-37699f5f1574"
      },
      "outputs": [
        {
          "output_type": "stream",
          "name": "stdout",
          "text": [
            "(876, 3)\n",
            "                    doctor patient medicine\n",
            "0  [[, isi, nama, anda, ]]     NaN      NaN\n",
            "1              [andrianto]     NaN      NaN\n",
            "2  [[, isi, nama, anda, ]]     NaN      NaN\n",
            "3  [[, isi, nama, anda, ]]     NaN      NaN\n",
            "4  [[, isi, nama, anda, ]]     NaN      NaN\n"
          ]
        }
      ],
      "source": [
        "import pandas as pd\n",
        "from nltk.tokenize import word_tokenize\n",
        "from nltk.corpus import stopwords\n",
        "\n",
        "# Load the CSV file into a DataFrame\n",
        "df = pd.read_csv('/content/drive/MyDrive/Information Retrieval/dokter pasien obat_new.csv')\n",
        "\n",
        "\n",
        "# Tokenizing with NaN handling\n",
        "df['doctor'] = df['doctor'].apply(lambda x: word_tokenize(str(x))\n",
        "  if pd.notnull(x) else x)\n",
        "df['patient'] = df['patient'].apply(lambda x: word_tokenize(str(x))\n",
        "  if pd.notnull(x) else x)\n",
        "df['medicine'] = df['medicine'].apply(lambda x: word_tokenize(str(x))\n",
        "  if pd.notnull(x) else x)\n",
        "\n",
        "# Lowercasing\n",
        "df['doctor'] = df['doctor'].apply(lambda x: [word.lower() for word in x]\n",
        "  if isinstance(x, list) else x)\n",
        "df['patient'] = df['patient'].apply(lambda x: [word.lower() for word in x]\n",
        "  if isinstance(x, list) else x)\n",
        "df['medicine'] = df['medicine'].apply(lambda x: [word.lower() for word in x]\n",
        "  if isinstance(x, list) else x)\n",
        "\n",
        "# Save preprocessed data\n",
        "df.to_csv('preprocessed_rekmed.csv', index=False)\n",
        "\n",
        "print(df.shape)\n",
        "print(df.head())"
      ]
    },
    {
      "cell_type": "code",
      "source": [
        "import pandas as pd\n",
        "from sklearn.feature_extraction.text import TfidfVectorizer\n",
        "from sklearn.metrics.pairwise import cosine_similarity\n",
        "\n",
        "data = pd.read_csv('/content/preprocessed_rekmed.csv')\n",
        "data = data.fillna('')\n",
        "\n",
        "# Create a combined text field for each patient-doctor-medicine combination\n",
        "data['combination'] = data['patient'].astype(str) + ' ' + data['doctor'].astype(str) + ' ' + data['medicine'].astype(str)\n",
        "\n",
        "# Create a TF-IDF vectorizer\n",
        "tfidf_vectorizer = TfidfVectorizer()\n",
        "\n",
        "# Fit and transform the TF-IDF vectorizer on the combined text\n",
        "tfidf_matrix = tfidf_vectorizer.fit_transform(data['combination'])\n",
        "\n",
        "# Tokenization and Lowercasing for Query Preprocessing\n",
        "def preprocess_query(query):\n",
        "    # Tokenization\n",
        "    tokens = query.split()\n",
        "\n",
        "    # Lowercasing\n",
        "    tokens = [token.lower() for token in tokens]\n",
        "\n",
        "    # Rejoin the preprocessed tokens into a single string\n",
        "    preprocessed_query = ' '.join(tokens)\n",
        "\n",
        "    return preprocessed_query\n",
        "\n",
        "def search(query, threshold=0.3, relevant_keywords=None):\n",
        "    preprocessed_query = preprocess_query(query)\n",
        "    query_vector = tfidf_vectorizer.transform([preprocessed_query])\n",
        "    cosine_similarities = cosine_similarity(query_vector, tfidf_matrix)\n",
        "\n",
        "    # Find all combinations with similarity scores above the threshold\n",
        "    above_threshold_indices = [i for i, score in enumerate(cosine_similarities[0]) if score >= threshold]\n",
        "    results = [data.loc[i] for i in above_threshold_indices]\n",
        "\n",
        "    if not results:\n",
        "        return 'No results found', [], 0\n",
        "\n",
        "    query_type = 'unrecognized'\n",
        "    if \"doctor for patient\" in query:\n",
        "        query_type = 'find doctor with which patient'\n",
        "    elif \"patient for doctor\" in query:\n",
        "        query_type = 'find patient with which doctor'\n",
        "    elif \"medicine for patient\" in query:\n",
        "        query_type = 'find medicine prescribed for which patient'\n",
        "    elif \"medicine by doctor\" in query:\n",
        "        query_type = 'find medicine prescribed by which doctor'\n",
        "\n",
        "    relevant_results = []\n",
        "\n",
        "    if relevant_keywords:\n",
        "        if query_type == 'find patient with which doctor':\n",
        "            relevant_results = [result for result in results if all(keyword in result['doctor'].lower() for keyword in relevant_keywords)]\n",
        "        elif query_type == 'find doctor with which patient':\n",
        "            relevant_results = [result for result in results if all(keyword in result['patient'].lower() for keyword in relevant_keywords)]\n",
        "        elif query_type == 'find medicine prescribed for which patient':\n",
        "            relevant_results = [result for result in results if all(keyword in result['patient'].lower() for keyword in relevant_keywords)]\n",
        "        elif query_type == 'find medicine prescribed by which doctor':\n",
        "            relevant_results = [result for result in results if all(keyword in result['doctor'].lower() for keyword in relevant_keywords)]\n",
        "\n",
        "    return query_type, results, len(results), len(relevant_results)\n",
        "\n",
        "# Example queries\n",
        "query_1 = \"find doctor for patient noah hidayat\"\n",
        "query_2 = \"find patient for doctor anita\"\n",
        "query_3 = \"find medicine for patient Guntur\"\n",
        "query_4 = \"find medicine by doctor yudhisindo\"\n",
        "\n",
        "relevant_keywords_1 = ['noah', 'hidayat']  # Customize keywords for each query\n",
        "relevant_keywords_2 = ['anita']  # Customize keywords for each query\n",
        "relevant_keywords_3 = ['guntur']  # Customize keywords for each query\n",
        "relevant_keywords_4 = ['yudhisindo']  # Customize keywords for each query\n",
        "\n",
        "query_type_1, results_1, count_1, relevant_count_1 = search(query_1, relevant_keywords=relevant_keywords_1)\n",
        "query_type_2, results_2, count_2, relevant_count_2 = search(query_2, relevant_keywords=relevant_keywords_2)\n",
        "query_type_3, results_3, count_3, relevant_count_3 = search(query_3, relevant_keywords=relevant_keywords_3)\n",
        "query_type_4, results_4, count_4, relevant_count_4 = search(query_4, relevant_keywords=relevant_keywords_4)\n",
        "\n",
        "print(f\"Query: {query_1}, Query Type: {query_type_1}, Count: {count_1}, Relevant Document Count: {relevant_count_1}\")\n",
        "for result in results_1:\n",
        "    print(f\"Result: Patient={result['patient']}, Doctor={result['doctor']}\")\n",
        "\n",
        "print(f\"\\nQuery: {query_2}, Query Type: {query_type_2}, Count: {count_2}, Relevant Document Count: {relevant_count_2}\")\n",
        "for result in results_2:\n",
        "    print(f\"Result: Doctor={result['doctor']}, Patient={result['patient']}\")\n",
        "\n",
        "print(f\"\\nQuery: {query_3}, Query Type: {query_type_3}, Count: {count_3}, Relevant Document Count: {relevant_count_3}\")\n",
        "for result in results_3:\n",
        "    print(f\"Result: Patient={result['patient']}, Medicine={result['medicine']}\")\n",
        "\n",
        "print(f\"\\nQuery: {query_4}, Query Type: {query_type_4}, Count: {count_4}, Relevant Document Count: {relevant_count_4}\")\n",
        "for result in results_4:\n",
        "    print(f\"Result: Doctor={result['doctor']}, Medicine={result['medicine']}\")\n"
      ],
      "metadata": {
        "id": "782db3TR2_cr",
        "colab": {
          "base_uri": "https://localhost:8080/"
        },
        "outputId": "b9fd32de-d6b4-4ad8-cf66-02c60b6ab2c7"
      },
      "execution_count": null,
      "outputs": [
        {
          "output_type": "stream",
          "name": "stdout",
          "text": [
            "Query: find doctor for patient noah hidayat, Query Type: find doctor with which patient, Count: 19, Relevant Document Count: 8\n",
            "Result: Patient=['arif', 'hidayat'], Doctor=['dr', 'hendry']\n",
            "Result: Patient=['noah', 'hidayat'], Doctor=['supardi']\n",
            "Result: Patient=['noah', 'hidayat'], Doctor=['supardi']\n",
            "Result: Patient=['noah', 'hidayat'], Doctor=['supardi']\n",
            "Result: Patient=['noah', 'hidayat'], Doctor=['supardi']\n",
            "Result: Patient=['arif', 'hidayat'], Doctor=\n",
            "Result: Patient=['noah', 'santoso'], Doctor=\n",
            "Result: Patient=['scarlett', 'hidayat'], Doctor=\n",
            "Result: Patient=['scarlett', 'hidayat'], Doctor=\n",
            "Result: Patient=['noah', 'lee'], Doctor=\n",
            "Result: Patient=['noah', 'lee'], Doctor=\n",
            "Result: Patient=['noah', 'setiawan'], Doctor=\n",
            "Result: Patient=['noah', 'hidayat'], Doctor=['supardi']\n",
            "Result: Patient=['noah', 'hidayat'], Doctor=['supardi']\n",
            "Result: Patient=['noah', 'hidayat'], Doctor=['supardi']\n",
            "Result: Patient=['noah', 'hidayat'], Doctor=['supardi']\n",
            "Result: Patient=['noah', 'prasetyo'], Doctor=\n",
            "Result: Patient=['arif', 'hidayat'], Doctor=['dr', 'hendry']\n",
            "Result: Patient=['arif', 'hidayat'], Doctor=\n",
            "\n",
            "Query: find patient for doctor anita, Query Type: find patient with which doctor, Count: 16, Relevant Document Count: 14\n",
            "Result: Doctor=['dr.', 'anita'], Patient=\n",
            "Result: Doctor=['dr.', 'anita'], Patient=\n",
            "Result: Doctor=['anita'], Patient=['fikri', 'setiawan']\n",
            "Result: Doctor=['anita'], Patient=['fikri', 'setiawan']\n",
            "Result: Doctor=['anita'], Patient=['rina', 'kusuma']\n",
            "Result: Doctor=['anita'], Patient=['irfan', 'prayoga']\n",
            "Result: Doctor=['anita'], Patient=['rendi', 'pratomo']\n",
            "Result: Doctor=['anita'], Patient=['maya', 'anggraini']\n",
            "Result: Doctor=, Patient=['anita', 'cahyani']\n",
            "Result: Doctor=, Patient=['anita', 'cahyani']\n",
            "Result: Doctor=['anita'], Patient=['fikri', 'setiawan']\n",
            "Result: Doctor=['anita'], Patient=['fikri', 'setiawan']\n",
            "Result: Doctor=['anita'], Patient=['rina', 'kusuma']\n",
            "Result: Doctor=['anita'], Patient=['maya', 'anggraini']\n",
            "Result: Doctor=['anita'], Patient=['rendi', 'pratomo']\n",
            "Result: Doctor=['anita'], Patient=['irfan', 'prayoga']\n",
            "\n",
            "Query: find medicine for patient Guntur, Query Type: find medicine prescribed for which patient, Count: 8, Relevant Document Count: 8\n",
            "Result: Patient=['guntur', 'prasetyo'], Medicine=\n",
            "Result: Patient=['guntur', 'kusuma'], Medicine=['fe']\n",
            "Result: Patient=['guntur', 'kusuma'], Medicine=['calk']\n",
            "Result: Patient=['guntur', 'kusuma'], Medicine=['fe']\n",
            "Result: Patient=['guntur', 'kusuma'], Medicine=['kalk']\n",
            "Result: Patient=['guntur', 'kusuma'], Medicine=['fe']\n",
            "Result: Patient=['guntur', 'kusuma'], Medicine=['calk']\n",
            "Result: Patient=['guntur', 'prasetyo'], Medicine=\n",
            "\n",
            "Query: find medicine by doctor yudhisindo, Query Type: find medicine prescribed by which doctor, Count: 16, Relevant Document Count: 16\n",
            "Result: Doctor=['yudhisindo'], Medicine=['cetirizine']\n",
            "Result: Doctor=['yudhisindo'], Medicine=['promavit']\n",
            "Result: Doctor=['yudhisindo'], Medicine=['fe']\n",
            "Result: Doctor=['yudhisindo'], Medicine=['calk']\n",
            "Result: Doctor=['yudhisindo'], Medicine=['lactafit']\n",
            "Result: Doctor=['yudhisindo'], Medicine=['lanzoperazole']\n",
            "Result: Doctor=['yudhisindo'], Medicine=['antasida', 'syrup']\n",
            "Result: Doctor=['yudhisindo'], Medicine=['suprabion']\n",
            "Result: Doctor=['yudhisindo'], Medicine=['fe']\n",
            "Result: Doctor=['yudhisindo'], Medicine=['calk']\n",
            "Result: Doctor=['yudhisindo'], Medicine=['cetirizine']\n",
            "Result: Doctor=['yudhisindo'], Medicine=['promavit']\n",
            "Result: Doctor=['yudhisindo'], Medicine=['lactafit']\n",
            "Result: Doctor=['yudhisindo'], Medicine=['lanzoperazole']\n",
            "Result: Doctor=['yudhisindo'], Medicine=['antasida', 'syrup']\n",
            "Result: Doctor=['yudhisindo'], Medicine=['suprabion']\n"
          ]
        }
      ]
    },
    {
      "cell_type": "code",
      "source": [
        "#specify ground truth for each queries\n",
        "ground_truth1 = 8\n",
        "ground_truth2 = 14\n",
        "ground_truth3 = 8\n",
        "ground_truth4 = 16\n",
        "\n",
        "#calculate precision and recall\n",
        "precision1 = relevant_count_1 / count_1\n",
        "recall1 = relevant_count_1 / ground_truth1\n",
        "\n",
        "precision2 = relevant_count_2 / count_2\n",
        "recall2 = relevant_count_2 / ground_truth2\n",
        "\n",
        "precision3 = relevant_count_3 / count_3\n",
        "recall3 = relevant_count_3 / ground_truth3\n",
        "\n",
        "precision4 = relevant_count_4 / count_4\n",
        "recall4 = relevant_count_4 / ground_truth4\n",
        "\n",
        "print(f\"\\nQuery 1 : find doctor for patient noah hidayat\")\n",
        "print(f\"Precision : {precision1}\")\n",
        "print(f\"Recall : {recall1}\")\n",
        "\n",
        "print(f\"\\nQuery 2 : find patient for doctor anita\")\n",
        "print(f\"Precision : {precision2}\")\n",
        "print(f\"Recall : {recall2}\")\n",
        "\n",
        "print(f\"\\nQuery 3 : find medicine for patient guntur\")\n",
        "print(f\"Precision : {precision3}\")\n",
        "print(f\"Recall : {recall3}\")\n",
        "\n",
        "print(f\"\\nQuery 4 : find medicine by doctor yudhisindo\")\n",
        "print(f\"Precision : {precision4}\")\n",
        "print(f\"Recall : {recall4}\")"
      ],
      "metadata": {
        "id": "vuW6dBxK0150",
        "colab": {
          "base_uri": "https://localhost:8080/"
        },
        "outputId": "cbe90877-b0ba-48f0-d579-6cca3f31ae0f"
      },
      "execution_count": null,
      "outputs": [
        {
          "output_type": "stream",
          "name": "stdout",
          "text": [
            "\n",
            "Query 1 : find doctor for patient noah hidayat\n",
            "Precision : 0.42105263157894735\n",
            "Recall : 1.0\n",
            "\n",
            "Query 2 : find patient for doctor anita\n",
            "Precision : 0.875\n",
            "Recall : 1.0\n",
            "\n",
            "Query 3 : find medicine for patient guntur\n",
            "Precision : 1.0\n",
            "Recall : 1.0\n",
            "\n",
            "Query 4 : find medicine by doctor yudhisindo\n",
            "Precision : 1.0\n",
            "Recall : 1.0\n"
          ]
        }
      ]
    }
  ]
}